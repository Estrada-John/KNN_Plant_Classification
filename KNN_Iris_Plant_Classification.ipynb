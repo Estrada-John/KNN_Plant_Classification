{
  "nbformat": 4,
  "nbformat_minor": 0,
  "metadata": {
    "colab": {
      "name": "KNN_Iris_Plant_Classification.ipynb",
      "provenance": [],
      "collapsed_sections": [],
      "toc_visible": true,
      "authorship_tag": "ABX9TyNa11BTu4lTJ7XegD/A9MVJ",
      "include_colab_link": true
    },
    "kernelspec": {
      "name": "python3",
      "display_name": "Python 3"
    }
  },
  "cells": [
    {
      "cell_type": "markdown",
      "metadata": {
        "id": "view-in-github",
        "colab_type": "text"
      },
      "source": [
        "<a href=\"https://colab.research.google.com/github/Estrada-John/KNN_Plant_Classification/blob/master/KNN_Iris_Plant_Classification.ipynb\" target=\"_parent\"><img src=\"https://colab.research.google.com/assets/colab-badge.svg\" alt=\"Open In Colab\"/></a>"
      ]
    },
    {
      "cell_type": "markdown",
      "metadata": {
        "id": "cvAEHXbPTonn",
        "colab_type": "text"
      },
      "source": [
        "# <center>ECE 49500/59500 Machine Learning</center>\n",
        "### <center>Sping 2020 </center> \n",
        "## <center>KNN for iris plant classification</center> \n"
      ]
    },
    {
      "cell_type": "code",
      "metadata": {
        "id": "0xZy7AjEAEeg",
        "colab_type": "code",
        "colab": {}
      },
      "source": [
        "# Libraries\n",
        "from sklearn import datasets\n",
        "import numpy as np"
      ],
      "execution_count": 0,
      "outputs": []
    },
    {
      "cell_type": "markdown",
      "metadata": {
        "id": "U8PY7_CI7S-Z",
        "colab_type": "text"
      },
      "source": [
        "### Data Upload\n",
        "Iris dara from sklearn library"
      ]
    },
    {
      "cell_type": "code",
      "metadata": {
        "id": "XZ4ZG3NWUlhn",
        "colab_type": "code",
        "colab": {}
      },
      "source": [
        "# Dataset\n",
        "iris = datasets.load_iris()\n",
        "# Finding max and min from every feature\n",
        "Xmin = np.amin(iris.data, axis = 0)\n",
        "Xmax = np.amax(iris.data, axis = 0)"
      ],
      "execution_count": 0,
      "outputs": []
    },
    {
      "cell_type": "markdown",
      "metadata": {
        "id": "-HHGBvomjav6",
        "colab_type": "text"
      },
      "source": [
        "### Feature Scaling\n",
        "functions: use numpy library\n",
        "\n",
        ">numpy.apply_along_axis\n",
        "* Apply a function to 1-D slices along the given axis.\n",
        "\n",
        ">numpy.amax, numpy.amin\n",
        "* Return the maximum, minimun of an array or maximum, minimun along an axis."
      ]
    },
    {
      "cell_type": "code",
      "metadata": {
        "id": "h3L5dK7exd8u",
        "colab_type": "code",
        "colab": {}
      },
      "source": [
        "  # Declare scalling definitions\n",
        "def scalling(data):\n",
        "  return ((data[0] - Xmin[0])/(Xmax[0] - Xmin[0]), (data[1] - Xmin[1])/(Xmax[1] - Xmin[1]), \n",
        "          (data[2] - Xmin[2])/(Xmax[2] - Xmin[2]), (data[3] - Xmin[3])/(Xmax[3] - Xmin[3]))\n",
        "\n",
        "# Extraxcting data and scalling\n",
        "x = np.apply_along_axis(scalling, 1, iris.data)\n",
        "y = iris.target"
      ],
      "execution_count": 0,
      "outputs": []
    },
    {
      "cell_type": "markdown",
      "metadata": {
        "id": "TxrhWLuxzqZY",
        "colab_type": "text"
      },
      "source": [
        "### Data Split\n",
        "functions: Use sklearn library\n",
        "\n",
        "links:\n",
        "<br>\n",
        "https://machinelearningmastery.com/implement-resampling-methods-scratch-python/"
      ]
    },
    {
      "cell_type": "code",
      "metadata": {
        "id": "mQUuRpO0P3Iy",
        "colab_type": "code",
        "outputId": "0fee872c-1344-49d1-bd73-1df0cbac5a83",
        "colab": {
          "base_uri": "https://localhost:8080/",
          "height": 136
        }
      },
      "source": [
        "from sklearn.model_selection import train_test_split\n",
        "# Split Data into test and train\n",
        "x_train, x_test, y_train, y_test = train_test_split(x, y, stratify = y, test_size = 0.3, random_state=1)\n",
        "# Print Info about splitting data\n",
        "print(\"Shape of train and test data\")\n",
        "print(x_train.shape)\n",
        "print(x_test.shape, \"\\n\")\n",
        "print(\"Shape of new data\")\n",
        "print(y_train.shape)\n",
        "print(y_test.shape)"
      ],
      "execution_count": 4,
      "outputs": [
        {
          "output_type": "stream",
          "text": [
            "Shape of train and test data\n",
            "(105, 4)\n",
            "(45, 4) \n",
            "\n",
            "Shape of new data\n",
            "(105,)\n",
            "(45,)\n"
          ],
          "name": "stdout"
        }
      ]
    },
    {
      "cell_type": "markdown",
      "metadata": {
        "id": "rTNjzYrG7sF3",
        "colab_type": "text"
      },
      "source": [
        "### Closest Distance and Neighboards\n",
        "<b>Function: eucledian distance</b>\n",
        "\n",
        "Perfomr a eucledian distance between 2 matrices of the same shape\n",
        "\n",
        ">Parameters:\n",
        "1. Instance A-B matrixes with same shape\n",
        "\n",
        ">Return:\n",
        "1. Eucledian distance of new data, respectively to each row\n",
        "\n",
        "<b>Function: getNeighbors</b>\n",
        "\n",
        "It takes train data and test data in order to perform a eucledian distance with respect to each new feature and old features. The sum of each individual eucledian distances will be added to get the overall distance of a given sample \n",
        "\n",
        "> Parameters:\n",
        "1. (Array)Test Data\n",
        "2. (Array)Train Data\n",
        "3. (Bool) Index  \n",
        "<br>\n",
        "> True: return array with index numbers\n",
        "<br>\n",
        "> False: return array with actual values\n",
        "\n",
        ">Return:\n",
        "1. Array with a size equal to test data containing eucledian distance sorted from in descendent order"
      ]
    },
    {
      "cell_type": "code",
      "metadata": {
        "id": "qVQwnumAftqU",
        "colab_type": "code",
        "colab": {}
      },
      "source": [
        "import math\n",
        "  # Eucledian distance\n",
        "def eucledianDistance(instanceA, instanceB):\n",
        "  distance = 0\n",
        "  for i in range(0, 4):\n",
        "    distance += pow((instanceA[i]) - instanceB[i], 2)\n",
        "  return math.sqrt(distance)\n",
        "\n",
        "  # Apply eucledian distance and find neigthbors index\n",
        "def getNeighbors(test, train, index = False):\n",
        "  featureDistance = np.array([])\n",
        "  for i in range(0, len(test)):\n",
        "    IndividualDistance = np.array([])\n",
        "    for j in range(0, len(train)):\n",
        "      IndividualDistance = np.append(IndividualDistance, np.apply_along_axis(eucledianDistance, 0, test[i], train[j]))\n",
        "    featureDistance = np.append(featureDistance, IndividualDistance, axis = 0)\n",
        "  if (index == False):\n",
        "    featureDistance = np.split(featureDistance, len(x_test))\n",
        "    return np.sort(featureDistance) \n",
        "  else:\n",
        "    featureDistance = np.split(featureDistance, len(x_test))\n",
        "    return np.argsort(featureDistance) \n",
        "\n",
        "# Using function getNeightbors\n",
        "distances = getNeighbors(x_test, x_train, True)"
      ],
      "execution_count": 0,
      "outputs": []
    },
    {
      "cell_type": "markdown",
      "metadata": {
        "id": "F_BuHhjBUo0j",
        "colab_type": "text"
      },
      "source": [
        "### Choose closest neightbors\n",
        "<b>Function: getClass</b>\n",
        "\n",
        "Sort and choose which is the closes neightbor with respect to new data samples and using the index numbers in y_test data\n",
        "\n",
        ">Parameters:\n",
        "1. (NumpyArr) data: eucledian distances array\n",
        "2. (Int)      k:  number of closest neightbors\n",
        "3. (Bool)     ClassType:  \n",
        "<br>\n",
        "> True: return array with unique class type of predicted output\n",
        "<br>\n",
        "> False: return array with k elements containing predicted outputs\n",
        "\n",
        ">Return:\n",
        "1. Return array containing predicted output with size of test data"
      ]
    },
    {
      "cell_type": "code",
      "metadata": {
        "id": "OVMBgTIPIdYM",
        "colab_type": "code",
        "colab": {}
      },
      "source": [
        "  # Choose k closest neightbors\n",
        "def getClass(data, k = 3, classType = False):\n",
        "  index = data[0: , 0:k] # get 3 close numbers\n",
        "  if (classType == False):\n",
        "    return  y_train[index]\n",
        "  else:\n",
        "    counts = np.bincount(y_train[index])\n",
        "    counts = np.where(counts > 1)[0] \n",
        "    return counts\n",
        "\n",
        "  # Using function getClass\n",
        "new = getClass(distances, True)"
      ],
      "execution_count": 0,
      "outputs": []
    },
    {
      "cell_type": "markdown",
      "metadata": {
        "id": "1Nem9zGNUutu",
        "colab_type": "text"
      },
      "source": [
        "### Find accuracy\n",
        "<b>Function: accuracy</b>\n",
        "\n",
        "get accuracy comparing predicted y values and true ground values. Total correct values divided by number of samples\n",
        "\n",
        ">Parameters:\n",
        "1. (NumpyArr) predicted \n",
        "2. (NumpyArr) groundTrue\n",
        "\n",
        ">Return\n",
        "1. return a single integer with the percentage of accuracy"
      ]
    },
    {
      "cell_type": "code",
      "metadata": {
        "id": "6LOO6A-85dOI",
        "colab_type": "code",
        "outputId": "3cba30a3-8f6a-4a5c-8b21-1d2a9cd40945",
        "colab": {
          "base_uri": "https://localhost:8080/",
          "height": 34
        }
      },
      "source": [
        "  # Find accuracy\n",
        "def accuracy(predicted, groundTrue):\n",
        "  count = 0\n",
        "  for i in range(groundTrue.shape[0]):\n",
        "    if (new[i][0] == y_test[i]):\n",
        "      count += 1\n",
        "  return count / groundTrue.shape[0]\n",
        "\n",
        "\n",
        "# Using function accuracy\n",
        "print(100 * accuracy(new, y_test))"
      ],
      "execution_count": 7,
      "outputs": [
        {
          "output_type": "stream",
          "text": [
            "97.77777777777777\n"
          ],
          "name": "stdout"
        }
      ]
    },
    {
      "cell_type": "code",
      "metadata": {
        "id": "jeNGx8EQLcVG",
        "colab_type": "code",
        "colab": {}
      },
      "source": [
        ""
      ],
      "execution_count": 0,
      "outputs": []
    }
  ]
}