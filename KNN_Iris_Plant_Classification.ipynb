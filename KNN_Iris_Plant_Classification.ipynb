{
  "nbformat": 4,
  "nbformat_minor": 0,
  "metadata": {
    "colab": {
      "name": "KNN_Iris_Plant_Classification.ipynb",
      "provenance": [],
      "collapsed_sections": [],
      "authorship_tag": "ABX9TyPk4xB5F+V4+TxqxD7rMr+L",
      "include_colab_link": true
    },
    "kernelspec": {
      "name": "python3",
      "display_name": "Python 3"
    }
  },
  "cells": [
    {
      "cell_type": "markdown",
      "metadata": {
        "id": "view-in-github",
        "colab_type": "text"
      },
      "source": [
        "<a href=\"https://colab.research.google.com/github/Estrada-John/KNN_Plant_Classification/blob/master/KNN_Iris_Plant_Classification.ipynb\" target=\"_parent\"><img src=\"https://colab.research.google.com/assets/colab-badge.svg\" alt=\"Open In Colab\"/></a>"
      ]
    },
    {
      "cell_type": "markdown",
      "metadata": {
        "id": "cvAEHXbPTonn",
        "colab_type": "text"
      },
      "source": [
        "# <center>ECE 49500/59500 Machine Learning</center>\n",
        "### <center>Sping 2020 </center> \n",
        "## <center>KNN for iris plant classification</center> \n"
      ]
    },
    {
      "cell_type": "code",
      "metadata": {
        "id": "0xZy7AjEAEeg",
        "colab_type": "code",
        "colab": {}
      },
      "source": [
        "# Libraries\n",
        "from sklearn import datasets\n",
        "import numpy as np\n",
        "from random import seed\n",
        "from random import randrange"
      ],
      "execution_count": 0,
      "outputs": []
    },
    {
      "cell_type": "code",
      "metadata": {
        "id": "XZ4ZG3NWUlhn",
        "colab_type": "code",
        "colab": {}
      },
      "source": [
        "#Dataset\n",
        "iris = datasets.load_iris()"
      ],
      "execution_count": 0,
      "outputs": []
    },
    {
      "cell_type": "markdown",
      "metadata": {
        "id": "-HHGBvomjav6",
        "colab_type": "text"
      },
      "source": [
        "### Feature Scaling\n",
        "functions: use numpy library\n",
        "\n",
        ">numpy.apply_along_axis\n",
        "* Apply a function to 1-D slices along the given axis.\n",
        "\n",
        ">numpy.amax, numpy.amin\n",
        "* Return the maximum, minimun of an array or maximum, minimun along an axis."
      ]
    },
    {
      "cell_type": "code",
      "metadata": {
        "id": "h3L5dK7exd8u",
        "colab_type": "code",
        "colab": {}
      },
      "source": [
        "# Finding max and min\n",
        "Xmin = np.amin(iris.data, axis = 0)\n",
        "Xmax = np.amax(iris.data, axis = 0)\n",
        "# Declare scalling definitions\n",
        "def scalling(data):\n",
        "  return ((data[0] - Xmin[0])/(Xmax[0] - Xmin[0]), (data[1] - Xmin[1])/(Xmax[1] - Xmin[1]), \n",
        "          (data[2] - Xmin[2])/(Xmax[2] - Xmin[2]), (data[3] - Xmin[3])/(Xmax[3] - Xmin[3]))\n",
        "# Extraxcting data and scalling\n",
        "x = np.apply_along_axis(scalling, 1, iris.data)\n",
        "y = iris.target"
      ],
      "execution_count": 0,
      "outputs": []
    },
    {
      "cell_type": "code",
      "metadata": {
        "id": "mQUuRpO0P3Iy",
        "colab_type": "code",
        "outputId": "c03ed7b7-88db-44c9-e384-788b787374f7",
        "colab": {
          "base_uri": "https://localhost:8080/",
          "height": 136
        }
      },
      "source": [
        "from sklearn.model_selection import train_test_split\n",
        "x_train, x_test, y_train, y_test = train_test_split(x, y, stratify = y, test_size = 0.3, random_state=1)\n",
        "print(\"Shape of train and test data\")\n",
        "print(x_train.shape)\n",
        "print(x_test.shape, \"\\n\")\n",
        "\n",
        "print(\"Shape of new data\")\n",
        "print(y_train.shape)\n",
        "print(y_test.shape)"
      ],
      "execution_count": 0,
      "outputs": [
        {
          "output_type": "stream",
          "text": [
            "Shape of train and test data\n",
            "(105, 4)\n",
            "(45, 4) \n",
            "\n",
            "Shape of new data\n",
            "(105,)\n",
            "(45,)\n"
          ],
          "name": "stdout"
        }
      ]
    },
    {
      "cell_type": "code",
      "metadata": {
        "id": "qVQwnumAftqU",
        "colab_type": "code",
        "colab": {}
      },
      "source": [
        "import math\n",
        "#Eucledian distance\n",
        "data = np.array([[1, 2, 3, 4], [1, 2, 3, 3]])\n",
        "data1 = np.array([[4, 5, 6, 7], [4, 1, 4, 6], [4, 2, 6, 7]])\n",
        "def eucledianDistance(instanceA, instanceB):\n",
        "  distance = 0\n",
        "  for i in range(0, 4):\n",
        "    distance += pow((instanceA[i]) - instanceB[i], 2)\n",
        "  return math.sqrt(distance)"
      ],
      "execution_count": 0,
      "outputs": []
    },
    {
      "cell_type": "code",
      "metadata": {
        "id": "0LnaWSGLDYxz",
        "colab_type": "code",
        "colab": {}
      },
      "source": [
        "# Apply eucledian distance and find neigthbors index\n",
        "def getNeighbors(test, train, index = False):\n",
        "  featureDistance = np.array([])\n",
        "  for i in range(0, len(test)):\n",
        "    IndividualDistance = np.array([])\n",
        "    for j in range(0, len(train)):\n",
        "      IndividualDistance = np.append(IndividualDistance, np.apply_along_axis(eucledianDistance, 0, test[i], train[j]))\n",
        "    featureDistance = np.append(featureDistance, IndividualDistance, axis = 0)\n",
        "  if (index == False):\n",
        "    featureDistance = np.split(featureDistance, len(x_test))\n",
        "    return np.sort(featureDistance) \n",
        "  else:\n",
        "    featureDistance = np.split(featureDistance, len(x_test))\n",
        "    return np.argsort(featureDistance) "
      ],
      "execution_count": 0,
      "outputs": []
    },
    {
      "cell_type": "code",
      "metadata": {
        "id": "Qke8STAIFBUr",
        "colab_type": "code",
        "outputId": "eddfb5fa-a6a2-4824-8412-73d8caceae40",
        "colab": {
          "base_uri": "https://localhost:8080/",
          "height": 782
        }
      },
      "source": [
        "#Get neightboards\n",
        "w1 = getNeighbors(x_test, x_train, True)\n",
        "index = w1[0: , 0:3]\n",
        "index"
      ],
      "execution_count": 0,
      "outputs": [
        {
          "output_type": "execute_result",
          "data": {
            "text/plain": [
              "array([[ 25,   2,  85],\n",
              "       [ 43,  50,  86],\n",
              "       [ 12,  19,  16],\n",
              "       [ 11,  14,  72],\n",
              "       [  9,  49,  22],\n",
              "       [ 93,  18,  30],\n",
              "       [ 33,  35,  88],\n",
              "       [ 96,  81,  45],\n",
              "       [ 40,  33,  35],\n",
              "       [ 86,  50,  54],\n",
              "       [  0,   7,  94],\n",
              "       [ 34,  20,  69],\n",
              "       [ 60,  47, 103],\n",
              "       [ 10,  17,  56],\n",
              "       [ 12,  19, 103],\n",
              "       [  9,  49,  59],\n",
              "       [ 95,  73,   5],\n",
              "       [ 72,  36,  68],\n",
              "       [ 93,   9,  75],\n",
              "       [ 84,  48,  38],\n",
              "       [ 73,  90,  78],\n",
              "       [ 46,  63, 103],\n",
              "       [ 49,   9,  22],\n",
              "       [ 66,  15,  34],\n",
              "       [ 30,  23,  65],\n",
              "       [ 22,  61,  49],\n",
              "       [ 10,  56,  24],\n",
              "       [  5,  90,  85],\n",
              "       [102,  77,  31],\n",
              "       [ 66,  15,  33],\n",
              "       [ 16,  64,  53],\n",
              "       [ 55,  89,  53],\n",
              "       [ 56,  96,  24],\n",
              "       [ 14,  24,  91],\n",
              "       [ 78,   8,  62],\n",
              "       [ 73,  95,  28],\n",
              "       [ 87,  58,  55],\n",
              "       [ 46,  63,  98],\n",
              "       [ 46,  98,  63],\n",
              "       [ 59,  49,   9],\n",
              "       [ 90,   5,  73],\n",
              "       [ 34,  69,  20],\n",
              "       [  9,  42,  26],\n",
              "       [ 53,  64,  41],\n",
              "       [ 46,  63,   4]])"
            ]
          },
          "metadata": {
            "tags": []
          },
          "execution_count": 545
        }
      ]
    },
    {
      "cell_type": "code",
      "metadata": {
        "id": "OVMBgTIPIdYM",
        "colab_type": "code",
        "outputId": "76d01179-6902-40c0-a89e-fb01d044dea8",
        "colab": {
          "base_uri": "https://localhost:8080/",
          "height": 350
        }
      },
      "source": [
        "y_train[index[44]]\n",
        "from iteration_utilities import unique_everseen\n",
        "for i in range(45):\n",
        "  print(y_train[index[i]], i)"
      ],
      "execution_count": 0,
      "outputs": [
        {
          "output_type": "error",
          "ename": "ModuleNotFoundError",
          "evalue": "ignored",
          "traceback": [
            "\u001b[0;31m---------------------------------------------------------------------------\u001b[0m",
            "\u001b[0;31mModuleNotFoundError\u001b[0m                       Traceback (most recent call last)",
            "\u001b[0;32m<ipython-input-565-829a1b34358e>\u001b[0m in \u001b[0;36m<module>\u001b[0;34m()\u001b[0m\n\u001b[1;32m      1\u001b[0m \u001b[0my_train\u001b[0m\u001b[0;34m[\u001b[0m\u001b[0mindex\u001b[0m\u001b[0;34m[\u001b[0m\u001b[0;36m44\u001b[0m\u001b[0;34m]\u001b[0m\u001b[0;34m]\u001b[0m\u001b[0;34m\u001b[0m\u001b[0;34m\u001b[0m\u001b[0m\n\u001b[0;32m----> 2\u001b[0;31m \u001b[0;32mfrom\u001b[0m \u001b[0miteration_utilities\u001b[0m \u001b[0;32mimport\u001b[0m \u001b[0munique_everseen\u001b[0m\u001b[0;34m\u001b[0m\u001b[0;34m\u001b[0m\u001b[0m\n\u001b[0m\u001b[1;32m      3\u001b[0m \u001b[0;32mfor\u001b[0m \u001b[0mi\u001b[0m \u001b[0;32min\u001b[0m \u001b[0mrange\u001b[0m\u001b[0;34m(\u001b[0m\u001b[0;36m45\u001b[0m\u001b[0;34m)\u001b[0m\u001b[0;34m:\u001b[0m\u001b[0;34m\u001b[0m\u001b[0;34m\u001b[0m\u001b[0m\n\u001b[1;32m      4\u001b[0m   \u001b[0mprint\u001b[0m\u001b[0;34m(\u001b[0m\u001b[0my_train\u001b[0m\u001b[0;34m[\u001b[0m\u001b[0mindex\u001b[0m\u001b[0;34m[\u001b[0m\u001b[0mi\u001b[0m\u001b[0;34m]\u001b[0m\u001b[0;34m]\u001b[0m\u001b[0;34m,\u001b[0m \u001b[0mi\u001b[0m\u001b[0;34m)\u001b[0m\u001b[0;34m\u001b[0m\u001b[0;34m\u001b[0m\u001b[0m\n",
            "\u001b[0;31mModuleNotFoundError\u001b[0m: No module named 'iteration_utilities'",
            "",
            "\u001b[0;31m---------------------------------------------------------------------------\u001b[0;32m\nNOTE: If your import is failing due to a missing package, you can\nmanually install dependencies using either !pip or !apt.\n\nTo view examples of installing some common dependencies, click the\n\"Open Examples\" button below.\n\u001b[0;31m---------------------------------------------------------------------------\u001b[0m\n"
          ]
        }
      ]
    },
    {
      "cell_type": "code",
      "metadata": {
        "id": "rkvb5nrXdCOm",
        "colab_type": "code",
        "outputId": "7ae17ea8-eac9-4431-e1b0-f93ac1828163",
        "colab": {
          "base_uri": "https://localhost:8080/",
          "height": 231
        }
      },
      "source": [
        "myList  = [2 ,4 , 6, 8, 4, 12];\n",
        "newList = set()\n",
        "\n",
        "for i in w1:\n",
        "    if myList.count(i) >= 2:\n",
        "        newList.add(i)\n",
        "\n",
        "print(list(newList))\n",
        "## [4 , 6]"
      ],
      "execution_count": 0,
      "outputs": [
        {
          "output_type": "error",
          "ename": "ValueError",
          "evalue": "ignored",
          "traceback": [
            "\u001b[0;31m---------------------------------------------------------------------------\u001b[0m",
            "\u001b[0;31mValueError\u001b[0m                                Traceback (most recent call last)",
            "\u001b[0;32m<ipython-input-574-cde6cc1ed074>\u001b[0m in \u001b[0;36m<module>\u001b[0;34m()\u001b[0m\n\u001b[1;32m      3\u001b[0m \u001b[0;34m\u001b[0m\u001b[0m\n\u001b[1;32m      4\u001b[0m \u001b[0;32mfor\u001b[0m \u001b[0mi\u001b[0m \u001b[0;32min\u001b[0m \u001b[0mw1\u001b[0m\u001b[0;34m:\u001b[0m\u001b[0;34m\u001b[0m\u001b[0;34m\u001b[0m\u001b[0m\n\u001b[0;32m----> 5\u001b[0;31m     \u001b[0;32mif\u001b[0m \u001b[0mmyList\u001b[0m\u001b[0;34m.\u001b[0m\u001b[0mcount\u001b[0m\u001b[0;34m(\u001b[0m\u001b[0mi\u001b[0m\u001b[0;34m)\u001b[0m \u001b[0;34m>=\u001b[0m \u001b[0;36m2\u001b[0m\u001b[0;34m:\u001b[0m\u001b[0;34m\u001b[0m\u001b[0;34m\u001b[0m\u001b[0m\n\u001b[0m\u001b[1;32m      6\u001b[0m         \u001b[0mnewList\u001b[0m\u001b[0;34m.\u001b[0m\u001b[0madd\u001b[0m\u001b[0;34m(\u001b[0m\u001b[0mi\u001b[0m\u001b[0;34m)\u001b[0m\u001b[0;34m\u001b[0m\u001b[0;34m\u001b[0m\u001b[0m\n\u001b[1;32m      7\u001b[0m \u001b[0;34m\u001b[0m\u001b[0m\n",
            "\u001b[0;31mValueError\u001b[0m: The truth value of an array with more than one element is ambiguous. Use a.any() or a.all()"
          ]
        }
      ]
    },
    {
      "cell_type": "markdown",
      "metadata": {
        "id": "TxrhWLuxzqZY",
        "colab_type": "text"
      },
      "source": [
        "### Data Split\n",
        "functions: use seed and random\n",
        "> random.seed()\n",
        "* Also seed function is used to generate same random numbers again and again and simplifies algorithm testing process.\n",
        "\n",
        "links:\n",
        "<br>\n",
        "https://machinelearningmastery.com/implement-resampling-methods-scratch-python/"
      ]
    },
    {
      "cell_type": "code",
      "metadata": {
        "id": "SlRrhPFnzokh",
        "colab_type": "code",
        "colab": {}
      },
      "source": [
        "# Split a dataset into a train and test set\n",
        "def train_test_split(dataset, split=0.70):\n",
        "\ttrain = list()\n",
        "\ttrain_size = split * len(dataset)\n",
        "\tdataset_copy = list(dataset)\n",
        "\twhile len(train) < train_size:\n",
        "\t\tindex = randrange(len(dataset_copy))\n",
        "\t\ttrain.append(dataset_copy.pop(index))\n",
        "\treturn np.array(train), np.array(dataset_copy)"
      ],
      "execution_count": 0,
      "outputs": []
    },
    {
      "cell_type": "code",
      "metadata": {
        "id": "knBcjlHI0bqx",
        "colab_type": "code",
        "outputId": "e57bc322-b32a-4e96-9ffd-bb191f26a10c",
        "colab": {
          "base_uri": "https://localhost:8080/",
          "height": 163
        }
      },
      "source": [
        "X_train, X_test\n"
      ],
      "execution_count": 0,
      "outputs": [
        {
          "output_type": "error",
          "ename": "NameError",
          "evalue": "ignored",
          "traceback": [
            "\u001b[0;31m---------------------------------------------------------------------------\u001b[0m",
            "\u001b[0;31mNameError\u001b[0m                                 Traceback (most recent call last)",
            "\u001b[0;32m<ipython-input-109-90be9d44fa53>\u001b[0m in \u001b[0;36m<module>\u001b[0;34m()\u001b[0m\n\u001b[0;32m----> 1\u001b[0;31m \u001b[0mX_train\u001b[0m\u001b[0;34m,\u001b[0m \u001b[0mX_test\u001b[0m\u001b[0;34m\u001b[0m\u001b[0;34m\u001b[0m\u001b[0m\n\u001b[0m",
            "\u001b[0;31mNameError\u001b[0m: name 'X_train' is not defined"
          ]
        }
      ]
    },
    {
      "cell_type": "code",
      "metadata": {
        "id": "QwVdAFtx5rGX",
        "colab_type": "code",
        "colab": {}
      },
      "source": [
        "#"
      ],
      "execution_count": 0,
      "outputs": []
    }
  ]
}