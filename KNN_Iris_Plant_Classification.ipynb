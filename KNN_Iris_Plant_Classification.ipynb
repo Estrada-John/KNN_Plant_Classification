{
  "nbformat": 4,
  "nbformat_minor": 0,
  "metadata": {
    "colab": {
      "name": "KNN_Iris_Plant_Classification.ipynb",
      "provenance": [],
      "collapsed_sections": [],
      "authorship_tag": "ABX9TyMWKcWSuOOj9YDQypzJszS8",
      "include_colab_link": true
    },
    "kernelspec": {
      "name": "python3",
      "display_name": "Python 3"
    }
  },
  "cells": [
    {
      "cell_type": "markdown",
      "metadata": {
        "id": "view-in-github",
        "colab_type": "text"
      },
      "source": [
        "<a href=\"https://colab.research.google.com/github/Estrada-John/KNN_Plant_Classification/blob/master/KNN_Iris_Plant_Classification.ipynb\" target=\"_parent\"><img src=\"https://colab.research.google.com/assets/colab-badge.svg\" alt=\"Open In Colab\"/></a>"
      ]
    },
    {
      "cell_type": "markdown",
      "metadata": {
        "id": "cvAEHXbPTonn",
        "colab_type": "text"
      },
      "source": [
        "# <center>ECE 49500/59500 Machine Learning</center>\n",
        "### <center>Sping 2020 </center> \n",
        "## <center>KNN for iris plant classification</center> \n"
      ]
    },
    {
      "cell_type": "code",
      "metadata": {
        "id": "0xZy7AjEAEeg",
        "colab_type": "code",
        "colab": {}
      },
      "source": [
        "# Libraries\n",
        "from sklearn import datasets\n",
        "import numpy as np\n",
        "from random import seed\n",
        "from random import randrange"
      ],
      "execution_count": 0,
      "outputs": []
    },
    {
      "cell_type": "code",
      "metadata": {
        "id": "XZ4ZG3NWUlhn",
        "colab_type": "code",
        "colab": {
          "base_uri": "https://localhost:8080/",
          "height": 34
        },
        "outputId": "721078d2-e0b4-4de0-9785-bbe2467baec8"
      },
      "source": [
        "#Dataset\n",
        "iris = datasets.load_iris()"
      ],
      "execution_count": 234,
      "outputs": [
        {
          "output_type": "stream",
          "text": [
            "<class 'numpy.ndarray'>\n"
          ],
          "name": "stdout"
        }
      ]
    },
    {
      "cell_type": "markdown",
      "metadata": {
        "id": "-HHGBvomjav6",
        "colab_type": "text"
      },
      "source": [
        "### Feature Scaling\n",
        "functions: use numpy library\n",
        "\n",
        ">numpy.apply_along_axis\n",
        "* Apply a function to 1-D slices along the given axis.\n",
        "\n",
        ">numpy.amax, numpy.amin\n",
        "* Return the maximum, minimun of an array or maximum, minimun along an axis."
      ]
    },
    {
      "cell_type": "code",
      "metadata": {
        "id": "h3L5dK7exd8u",
        "colab_type": "code",
        "colab": {
          "base_uri": "https://localhost:8080/",
          "height": 231
        },
        "outputId": "7f4cafa3-5ab5-474d-cc9c-bf115ca15865"
      },
      "source": [
        "Xmin = np.amin(x, axis = 0)\n",
        "Xmax = np.amax(x, axis = 0)\n",
        "# Declare scalling definitions\n",
        "def scalling(data):\n",
        "  return ((data[0] - Xmin[0])/(Xmax[0] - Xmin[0]), (data[1] - Xmin[1])/(Xmax[1] - Xmin[1]), \n",
        "          (data[2] - Xmin[2])/(Xmax[2] - Xmin[2]), (data[3] - Xmin[3])/(Xmax[3] - Xmin[3]))\n",
        "#Extraxcting data and scalling\n",
        "x = np.apply_along_axis(scalling, 1, iris.data)\n",
        "y = iris.target\n",
        "print(x.shape , y.shape)\n",
        "a = np.array([])\n",
        "for i in range(len(iris.target)-1):\n",
        "  for j in i:\n",
        "    a = np.append(x[i], y[i])"
      ],
      "execution_count": 231,
      "outputs": [
        {
          "output_type": "stream",
          "text": [
            "(150, 4) (150,)\n"
          ],
          "name": "stdout"
        },
        {
          "output_type": "error",
          "ename": "TypeError",
          "evalue": "ignored",
          "traceback": [
            "\u001b[0;31m---------------------------------------------------------------------------\u001b[0m",
            "\u001b[0;31mTypeError\u001b[0m                                 Traceback (most recent call last)",
            "\u001b[0;32m<ipython-input-231-131430124194>\u001b[0m in \u001b[0;36m<module>\u001b[0;34m()\u001b[0m\n\u001b[1;32m     11\u001b[0m \u001b[0ma\u001b[0m \u001b[0;34m=\u001b[0m \u001b[0mnp\u001b[0m\u001b[0;34m.\u001b[0m\u001b[0marray\u001b[0m\u001b[0;34m(\u001b[0m\u001b[0;34m[\u001b[0m\u001b[0;34m]\u001b[0m\u001b[0;34m)\u001b[0m\u001b[0;34m\u001b[0m\u001b[0;34m\u001b[0m\u001b[0m\n\u001b[1;32m     12\u001b[0m \u001b[0;32mfor\u001b[0m \u001b[0mi\u001b[0m \u001b[0;32min\u001b[0m \u001b[0mrange\u001b[0m\u001b[0;34m(\u001b[0m\u001b[0mlen\u001b[0m\u001b[0;34m(\u001b[0m\u001b[0miris\u001b[0m\u001b[0;34m.\u001b[0m\u001b[0mtarget\u001b[0m\u001b[0;34m)\u001b[0m\u001b[0;34m-\u001b[0m\u001b[0;36m1\u001b[0m\u001b[0;34m)\u001b[0m\u001b[0;34m:\u001b[0m\u001b[0;34m\u001b[0m\u001b[0;34m\u001b[0m\u001b[0m\n\u001b[0;32m---> 13\u001b[0;31m   \u001b[0;32mfor\u001b[0m \u001b[0mj\u001b[0m \u001b[0;32min\u001b[0m \u001b[0mi\u001b[0m\u001b[0;34m:\u001b[0m\u001b[0;34m\u001b[0m\u001b[0;34m\u001b[0m\u001b[0m\n\u001b[0m\u001b[1;32m     14\u001b[0m     \u001b[0ma\u001b[0m \u001b[0;34m=\u001b[0m \u001b[0mnp\u001b[0m\u001b[0;34m.\u001b[0m\u001b[0mappend\u001b[0m\u001b[0;34m(\u001b[0m\u001b[0mx\u001b[0m\u001b[0;34m[\u001b[0m\u001b[0mi\u001b[0m\u001b[0;34m]\u001b[0m\u001b[0;34m,\u001b[0m \u001b[0my\u001b[0m\u001b[0;34m[\u001b[0m\u001b[0mi\u001b[0m\u001b[0;34m]\u001b[0m\u001b[0;34m)\u001b[0m\u001b[0;34m\u001b[0m\u001b[0;34m\u001b[0m\u001b[0m\n",
            "\u001b[0;31mTypeError\u001b[0m: 'int' object is not iterable"
          ]
        }
      ]
    },
    {
      "cell_type": "markdown",
      "metadata": {
        "id": "TxrhWLuxzqZY",
        "colab_type": "text"
      },
      "source": [
        "### Data Split\n",
        "functions: use seed and random\n",
        "> random.seed()\n",
        "* Also seed function is used to generate same random numbers again and again and simplifies algorithm testing process.\n",
        "\n",
        "links:\n",
        "<br>\n",
        "https://machinelearningmastery.com/implement-resampling-methods-scratch-python/"
      ]
    },
    {
      "cell_type": "code",
      "metadata": {
        "id": "SlRrhPFnzokh",
        "colab_type": "code",
        "colab": {}
      },
      "source": [
        "# Split a dataset into a train and test set\n",
        "def train_test_split(dataset, split=0.70):\n",
        "\ttrain = list()\n",
        "\ttrain_size = split * len(dataset)\n",
        "\tdataset_copy = list(dataset)\n",
        "\twhile len(train) < train_size:\n",
        "\t\tindex = randrange(len(dataset_copy))\n",
        "\t\ttrain.append(dataset_copy.pop(index))\n",
        "\treturn np.array(train), np.array(dataset_copy)"
      ],
      "execution_count": 0,
      "outputs": []
    },
    {
      "cell_type": "code",
      "metadata": {
        "id": "knBcjlHI0bqx",
        "colab_type": "code",
        "colab": {
          "base_uri": "https://localhost:8080/",
          "height": 187
        },
        "outputId": "852c9b2e-4ecf-498a-fb24-4329579eaf6b"
      },
      "source": [
        "X_train, X_test\n"
      ],
      "execution_count": 193,
      "outputs": [
        {
          "output_type": "stream",
          "text": [
            "[[3]\n",
            " [2]\n",
            " [8]]\n",
            "[[ 1]\n",
            " [ 4]\n",
            " [ 5]\n",
            " [ 6]\n",
            " [ 7]\n",
            " [ 9]\n",
            " [10]]\n"
          ],
          "name": "stdout"
        }
      ]
    },
    {
      "cell_type": "code",
      "metadata": {
        "id": "QwVdAFtx5rGX",
        "colab_type": "code",
        "colab": {}
      },
      "source": [
        "#"
      ],
      "execution_count": 0,
      "outputs": []
    }
  ]
}